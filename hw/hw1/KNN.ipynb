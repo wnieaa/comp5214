{
 "cells": [
  {
   "cell_type": "code",
   "execution_count": null,
   "metadata": {},
   "outputs": [
    {
     "name": "stdout",
     "output_type": "stream",
     "text": [
      "8\n"
     ]
    }
   ],
   "source": [
    "import os\n",
    "import multiprocessing\n",
    "\n",
    "# get the number of CPU cores\n",
    "a = multiprocessing.cpu_count()\n",
    "print(a)\n",
    "\n",
    "# restrict the number of CPU cores to be used by joblib\n",
    "os.environ['LOKY_MAX_CPU_COUNT'] = str(a // 2)"
   ]
  },
  {
   "cell_type": "code",
   "execution_count": 6,
   "metadata": {},
   "outputs": [
    {
     "name": "stdout",
     "output_type": "stream",
     "text": [
      "Number of training samples: 60000\n",
      "Number of testing samples: 10000\n"
     ]
    }
   ],
   "source": [
    "import torch as th\n",
    "from torchvision import datasets, transforms\n",
    "\n",
    "transform = transforms.Compose([transforms.ToTensor(), transforms.Normalize((0.5,), (0.5,))])\n",
    "\n",
    "train_dataset = datasets.MNIST(root='./data', train=True, download=True, transform=transform)\n",
    "test_dataset = datasets.MNIST(root='./data', train=False, download=True, transform=transform)\n",
    "\n",
    "train_loader = th.utils.data.DataLoader(dataset=train_dataset, batch_size=60000, shuffle=True)\n",
    "test_loader = th.utils.data.DataLoader(dataset=test_dataset, batch_size=10000, shuffle=False)\n",
    "\n",
    "print(\"Number of training samples:\", len(train_dataset))\n",
    "print(\"Number of testing samples:\", len(test_dataset))"
   ]
  },
  {
   "cell_type": "code",
   "execution_count": null,
   "metadata": {},
   "outputs": [
    {
     "name": "stdout",
     "output_type": "stream",
     "text": [
      "torch.Size([60000, 784])\n",
      "k = 1 Test accuracy: 0.9631\n",
      "k = 2 Test accuracy: 0.954\n"
     ]
    }
   ],
   "source": [
    "from sklearn.neighbors import KNeighborsClassifier\n",
    "import matplotlib.pyplot as plt\n",
    "\n",
    "for train_data, train_labels in train_loader:\n",
    "    train_data = train_data.view(train_data.size(0), -1)\n",
    "    train_labels = train_labels\n",
    "\n",
    "for test_data, test_labels in test_loader:\n",
    "    test_data = test_data.view(test_data.size(0), -1)\n",
    "    test_labels = test_labels\n",
    "\n",
    "accuracies = []\n",
    "\n",
    "for k in range(1, 11):\n",
    "    knn = KNeighborsClassifier(n_neighbors=k, p=1)  # p=1 denotes Manhattan distance(SAD)\n",
    "    \n",
    "    knn.fit(train_data, train_labels)\n",
    "    \n",
    "    accuracy = knn.score(test_data, test_labels)\n",
    "    accuracies.append(accuracy * 100)\n",
    "    print(\"k =\", k, \"Test accuracy:\", accuracy)\n",
    "\n",
    "plt.plot(range(1, 11), accuracies, marker='o')\n",
    "plt.xlabel('The choice of K')\n",
    "plt.ylabel('Accuracy (%)')\n",
    "plt.title('Accuracy versus K')\n",
    "plt.grid(True)\n",
    "plt.savefig('KNN_accuracy_vs_k.png')  # 保存图像为 PNG 文件\n",
    "plt.show()"
   ]
  }
 ],
 "metadata": {
  "kernelspec": {
   "display_name": "pytorch",
   "language": "python",
   "name": "python3"
  },
  "language_info": {
   "codemirror_mode": {
    "name": "ipython",
    "version": 3
   },
   "file_extension": ".py",
   "mimetype": "text/x-python",
   "name": "python",
   "nbconvert_exporter": "python",
   "pygments_lexer": "ipython3",
   "version": "3.10.16"
  }
 },
 "nbformat": 4,
 "nbformat_minor": 2
}
