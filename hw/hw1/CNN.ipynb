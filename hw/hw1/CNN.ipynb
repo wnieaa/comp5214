{
 "cells": [
  {
   "cell_type": "code",
   "execution_count": null,
   "metadata": {},
   "outputs": [],
   "source": [
    "#this is an implement of LeNet-5 convolutional neural network with input image size 28 × 28\n",
    "#you can find more details on https://pub.towardsai.net/the-architecture-implementation-of-lenet-5-eef03a68d1f7"
   ]
  },
  {
   "cell_type": "code",
   "execution_count": 29,
   "metadata": {},
   "outputs": [
    {
     "name": "stdout",
     "output_type": "stream",
     "text": [
      "Number of training samples: 60000\n",
      "Number of testing samples: 10000\n"
     ]
    }
   ],
   "source": [
    "import torch as th\n",
    "from torchvision import datasets, transforms\n",
    "\n",
    "transform = transforms.Compose([transforms.ToTensor(), transforms.Normalize((0.5,), (0.5,))])\n",
    "\n",
    "train_dataset = datasets.MNIST(root='./data', train=True, download=True, transform=transform)\n",
    "test_dataset = datasets.MNIST(root='./data', train=False, download=True, transform=transform)\n",
    "\n",
    "train_loader = th.utils.data.DataLoader(dataset=train_dataset, batch_size=64, shuffle=True)\n",
    "test_loader = th.utils.data.DataLoader(dataset=test_dataset, batch_size=64, shuffle=False)\n",
    "\n",
    "print(\"Number of training samples:\", len(train_dataset))\n",
    "print(\"Number of testing samples:\", len(test_dataset))"
   ]
  },
  {
   "cell_type": "code",
   "execution_count": 20,
   "metadata": {},
   "outputs": [],
   "source": [
    "import torch.nn as nn\n",
    "import torch.nn.functional as F\n",
    "import torch.optim as optim\n",
    "\n",
    "epochs = 20\n",
    "learning_rate = 0.01\n",
    "momentum = 0.9\n",
    "\n",
    "class LeNet5(nn.Module):\n",
    "    def __init__(self):\n",
    "        super(LeNet5, self).__init__()\n",
    "        self.conv1 = nn.Conv2d(1, 6, kernel_size=5)\n",
    "        self.conv2 = nn.Conv2d(6, 16, kernel_size=5)\n",
    "        self.avgpool = nn.AvgPool2d(kernel_size=2, stride=2,)\n",
    "\n",
    "        self.fc1 = nn.Linear(16 * 4 * 4, 120) # Since the input image size is 28*28, after two convolutions and poolings, the image size may be smaller than 5*5, so the input size here is 16*4*4\n",
    "        self.fc2 = nn.Linear(120, 84)\n",
    "        self.fc3 = nn.Linear(84, 10)\n",
    "    \n",
    "    def forward(self, x):\n",
    "        x = F.tanh(self.conv1(x))\n",
    "        x = self.avgpool(x)\n",
    "        x = F.tanh(self.conv2(x))\n",
    "        x = self.avgpool(x)\n",
    "        \n",
    "        x = x.view(-1, 16 * 4 * 4)\n",
    "        x = F.tanh(self.fc1(x))\n",
    "        x = F.tanh(self.fc2(x))\n",
    "        x = F.softmax(self.fc3(x), dim=1)\n",
    "        return x\n"
   ]
  },
  {
   "cell_type": "code",
   "execution_count": 34,
   "metadata": {},
   "outputs": [],
   "source": [
    "def train(model, train_loader, optimizer, criterion):\n",
    "    model.train()\n",
    "\n",
    "    for epoch in range(epochs):\n",
    "        out_loss = 0.0\n",
    "        for i, data in enumerate(train_loader):\n",
    "            inputs, labels = data\n",
    "\n",
    "            optimizer.zero_grad()\n",
    "\n",
    "            outputs = model(inputs)\n",
    "            loss = criterion(outputs, labels)\n",
    "            loss.backward()\n",
    "            optimizer.step()\n",
    "\n",
    "            out_loss += loss.item()\n",
    "\n",
    "            if i % 300 == 299:  \n",
    "                print(\"Epoch: %d, Batch: %3d, Loss: %.3f\" % (epoch + 1, i + 1, out_loss / 300))\n",
    "                out_loss = 0.0\n",
    "    \n",
    "    print('Finished Training')\n",
    "    return model\n",
    "\n",
    "def test(model, test_loader):\n",
    "    correct = 0\n",
    "    total = 0\n",
    "\n",
    "    with th.no_grad():\n",
    "        for data in test_loader:\n",
    "            inputs, labels = data\n",
    "            outputs = model(inputs)\n",
    "            _, predicted = th.max(outputs.data, 1)\n",
    "            total += labels.size(0)\n",
    "            correct += (predicted == labels).sum().item()\n",
    "\n",
    "    print('Accuracy of the network on the 10000 test images: %0.2f %%' % (100 * correct / total))"
   ]
  },
  {
   "cell_type": "code",
   "execution_count": 4,
   "metadata": {},
   "outputs": [],
   "source": [
    "def main():\n",
    "    device = th.device(\"cuda\" if th.cuda.is_available() else \"cpu\")\n",
    "    model = LeNet5().to(device)\n",
    "    optimizer = optim.SGD(model.parameters(), lr=learning_rate, momentum=momentum)\n",
    "    criterion = nn.CrossEntropyLoss()\n",
    "\n",
    "    lenet5 = train(model, train_loader, optimizer, criterion)\n",
    "    test(lenet5, test_loader)\n",
    "    "
   ]
  },
  {
   "cell_type": "code",
   "execution_count": 35,
   "metadata": {},
   "outputs": [
    {
     "name": "stdout",
     "output_type": "stream",
     "text": [
      "Epoch: 1, Batch: 300, Loss: 2.285\n",
      "Epoch: 1, Batch: 600, Loss: 1.970\n",
      "Epoch: 1, Batch: 900, Loss: 1.673\n",
      "Epoch: 2, Batch: 300, Loss: 1.597\n",
      "Epoch: 2, Batch: 600, Loss: 1.567\n",
      "Epoch: 2, Batch: 900, Loss: 1.554\n",
      "Epoch: 3, Batch: 300, Loss: 1.542\n",
      "Epoch: 3, Batch: 600, Loss: 1.535\n",
      "Epoch: 3, Batch: 900, Loss: 1.525\n",
      "Epoch: 4, Batch: 300, Loss: 1.521\n",
      "Epoch: 4, Batch: 600, Loss: 1.515\n",
      "Epoch: 4, Batch: 900, Loss: 1.510\n",
      "Epoch: 5, Batch: 300, Loss: 1.506\n",
      "Epoch: 5, Batch: 600, Loss: 1.506\n",
      "Epoch: 5, Batch: 900, Loss: 1.501\n",
      "Epoch: 6, Batch: 300, Loss: 1.499\n",
      "Epoch: 6, Batch: 600, Loss: 1.496\n",
      "Epoch: 6, Batch: 900, Loss: 1.497\n",
      "Epoch: 7, Batch: 300, Loss: 1.493\n",
      "Epoch: 7, Batch: 600, Loss: 1.493\n",
      "Epoch: 7, Batch: 900, Loss: 1.491\n",
      "Epoch: 8, Batch: 300, Loss: 1.489\n",
      "Epoch: 8, Batch: 600, Loss: 1.490\n",
      "Epoch: 8, Batch: 900, Loss: 1.488\n",
      "Epoch: 9, Batch: 300, Loss: 1.487\n",
      "Epoch: 9, Batch: 600, Loss: 1.484\n",
      "Epoch: 9, Batch: 900, Loss: 1.488\n",
      "Epoch: 10, Batch: 300, Loss: 1.483\n",
      "Epoch: 10, Batch: 600, Loss: 1.484\n",
      "Epoch: 10, Batch: 900, Loss: 1.484\n",
      "Epoch: 11, Batch: 300, Loss: 1.482\n",
      "Epoch: 11, Batch: 600, Loss: 1.483\n",
      "Epoch: 11, Batch: 900, Loss: 1.482\n",
      "Epoch: 12, Batch: 300, Loss: 1.481\n",
      "Epoch: 12, Batch: 600, Loss: 1.481\n",
      "Epoch: 12, Batch: 900, Loss: 1.480\n",
      "Epoch: 13, Batch: 300, Loss: 1.480\n",
      "Epoch: 13, Batch: 600, Loss: 1.481\n",
      "Epoch: 13, Batch: 900, Loss: 1.478\n",
      "Epoch: 14, Batch: 300, Loss: 1.478\n",
      "Epoch: 14, Batch: 600, Loss: 1.478\n",
      "Epoch: 14, Batch: 900, Loss: 1.479\n",
      "Epoch: 15, Batch: 300, Loss: 1.477\n",
      "Epoch: 15, Batch: 600, Loss: 1.477\n",
      "Epoch: 15, Batch: 900, Loss: 1.478\n",
      "Epoch: 16, Batch: 300, Loss: 1.477\n",
      "Epoch: 16, Batch: 600, Loss: 1.477\n",
      "Epoch: 16, Batch: 900, Loss: 1.477\n",
      "Epoch: 17, Batch: 300, Loss: 1.477\n",
      "Epoch: 17, Batch: 600, Loss: 1.476\n",
      "Epoch: 17, Batch: 900, Loss: 1.476\n",
      "Epoch: 18, Batch: 300, Loss: 1.474\n",
      "Epoch: 18, Batch: 600, Loss: 1.476\n",
      "Epoch: 18, Batch: 900, Loss: 1.475\n",
      "Epoch: 19, Batch: 300, Loss: 1.474\n",
      "Epoch: 19, Batch: 600, Loss: 1.475\n",
      "Epoch: 19, Batch: 900, Loss: 1.475\n",
      "Epoch: 20, Batch: 300, Loss: 1.475\n",
      "Epoch: 20, Batch: 600, Loss: 1.474\n",
      "Epoch: 20, Batch: 900, Loss: 1.474\n",
      "Finished Training\n",
      "Accuracy of the network on the 10000 test images: 98.63 %\n"
     ]
    }
   ],
   "source": [
    "if __name__ == \"__main__\":\n",
    "    main()"
   ]
  }
 ],
 "metadata": {
  "kernelspec": {
   "display_name": "pytorch",
   "language": "python",
   "name": "python3"
  },
  "language_info": {
   "codemirror_mode": {
    "name": "ipython",
    "version": 3
   },
   "file_extension": ".py",
   "mimetype": "text/x-python",
   "name": "python",
   "nbconvert_exporter": "python",
   "pygments_lexer": "ipython3",
   "version": "3.10.16"
  }
 },
 "nbformat": 4,
 "nbformat_minor": 2
}
